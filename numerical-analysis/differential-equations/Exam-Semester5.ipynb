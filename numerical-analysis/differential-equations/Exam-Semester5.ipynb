{
 "cells": [
  {
   "cell_type": "code",
   "execution_count": 1,
   "metadata": {
    "collapsed": false,
    "scrolled": true
   },
   "outputs": [],
   "source": [
    "import imp\n",
    "import sympy\n",
    "import numpy as np\n",
    "sympy.init_printing()\n",
    "x = sympy.symbols('x', real=True)\n",
    "u = sympy.symbols('u', cls=sympy.Function)\n",
    "f = x * x + u(x) * u(x)\n",
    "xi = sympy.Integer(0)\n",
    "eta = sympy.Integer(0)"
   ]
  },
  {
   "cell_type": "code",
   "execution_count": 2,
   "metadata": {
    "collapsed": false,
    "scrolled": true
   },
   "outputs": [
    {
     "data": {
      "image/png": "[encoded data removed]",
      "text/latex": [
       "$$\\frac{x^{15}}{59535} + \\frac{2 x^{11}}{2079} + \\frac{x^{7}}{63} + \\frac{x^{3}}{3}$$"
      ],
      "text/plain": [
       "  15       11    7    3\n",
       " x      2⋅x     x    x \n",
       "───── + ───── + ── + ──\n",
       "59535    2079   63   3 "
      ]
     },
     "execution_count": 2,
     "metadata": {},
     "output_type": "execute_result"
    }
   ],
   "source": [
    "import picard\n",
    "picard = imp.reload(picard)\n",
    "picard.solve(f, xi, eta, n_iterations=3)"
   ]
  },
  {
   "cell_type": "code",
   "execution_count": 3,
   "metadata": {
    "collapsed": false
   },
   "outputs": [
    {
     "data": {
      "image/png": "[encoded data removed]",
      "text/latex": [
       "$$\\frac{x^{7}}{63} + \\frac{x^{3}}{3}$$"
      ],
      "text/plain": [
       " 7    3\n",
       "x    x \n",
       "── + ──\n",
       "63   3 "
      ]
     },
     "execution_count": 3,
     "metadata": {},
     "output_type": "execute_result"
    }
   ],
   "source": [
    "import taylor_series\n",
    "taylor_series = imp.reload(taylor_series)\n",
    "taylor_series.solve(f, xi, eta, n_iterations=7)"
   ]
  },
  {
   "cell_type": "code",
   "execution_count": 4,
   "metadata": {
    "collapsed": false
   },
   "outputs": [
    {
     "data": {
      "text/plain": [
       "array([ 0.        ,  0.        ,  0.015625  ,  0.07818604,  0.2203393 ])"
      ]
     },
     "execution_count": 4,
     "metadata": {},
     "output_type": "execute_result"
    }
   ],
   "source": [
    "import euler\n",
    "euler = imp.reload(euler)\n",
    "euler.explicit_solve(lambda x, y: x * x + y * y, 0.0, 1.0, 0.0, n=5)"
   ]
  },
  {
   "cell_type": "code",
   "execution_count": 5,
   "metadata": {
    "collapsed": false
   },
   "outputs": [
    {
     "data": {
      "text/plain": [
       "array([ 0.        ,  0.00266687,  0.02136009,  0.0724512 ,  0.17409018,\n",
       "        0.35025755])"
      ]
     },
     "execution_count": 5,
     "metadata": {},
     "output_type": "execute_result"
    }
   ],
   "source": [
    "import runge_kutta\n",
    "runge_kutta = imp.reload(runge_kutta)\n",
    "runge_kutta.solve_4(lambda x, y: x * x + y * y, 0.0, 1.0, 0.0, n=6)"
   ]
  },
  {
   "cell_type": "code",
   "execution_count": 6,
   "metadata": {
    "collapsed": false
   },
   "outputs": [
    {
     "data": {
      "image/png": "[encoded data removed]",
      "text/latex": [
       "$$7.141592653589793238462643383279502884197169399375105820974944592307816406286208998628034825342117068$$"
      ],
      "text/plain": [
       "7.1415926535897932384626433832795028841971693993751058209749445923078164062862\n",
       "08998628034825342117068"
      ]
     },
     "execution_count": 6,
     "metadata": {},
     "output_type": "execute_result"
    }
   ],
   "source": [
    "(x + u(x)).evalf(100, subs={x: 4, u(x): sympy.pi})"
   ]
  },
  {
   "cell_type": "code",
   "execution_count": 7,
   "metadata": {
    "collapsed": false
   },
   "outputs": [
    {
     "data": {
      "text/plain": [
       "array([  0.        ,   3.14159265,   6.28318531,   9.42477796,\n",
       "        12.56637061,  15.70796327,  18.84955592,  21.99114858,\n",
       "        25.13274123,  28.27433388])"
      ]
     },
     "execution_count": 7,
     "metadata": {},
     "output_type": "execute_result"
    }
   ],
   "source": [
    "f = sympy.lambdify(x, (x*u(x)).subs([(u(x), sympy.pi)]), 'numpy')\n",
    "a = np.arange(10)\n",
    "f(a)"
   ]
  },
  {
   "cell_type": "code",
   "execution_count": 14,
   "metadata": {
    "collapsed": false
   },
   "outputs": [
    {
     "data": {
      "image/png": "[encoded data removed]",
      "text/latex": [
       "$$\\left(2 \\lambda + 1\\right)^{2} \\left(\\lambda^{2} + 9\\right)$$"
      ],
      "text/plain": [
       "         2 ⎛ 2    ⎞\n",
       "(2⋅λ + 1) ⋅⎝λ  + 9⎠"
      ]
     },
     "execution_count": 14,
     "metadata": {},
     "output_type": "execute_result"
    }
   ],
   "source": [
    "l = sympy.symbols('lambda')\n",
    "expr = 4 * l ** 4 + 4 * l ** 3 + 37 * l ** 2 + 36 * l + 9\n",
    "expr.factor()"
   ]
  },
  {
   "cell_type": "code",
   "execution_count": 17,
   "metadata": {
    "collapsed": false
   },
   "outputs": [
    {
     "data": {
      "image/png": "[encoded data removed]",
      "text/latex": [
       "$$\\left(\\lambda + 1\\right)^{2} \\left(2 \\lambda + 5\\right)$$"
      ],
      "text/plain": [
       "       2          \n",
       "(λ + 1) ⋅(2⋅λ + 5)"
      ]
     },
     "execution_count": 17,
     "metadata": {},
     "output_type": "execute_result"
    }
   ],
   "source": [
    "expr = 2 * l ** 3 + 9 * l ** 2 + 12 * l + 5\n",
    "expr.factor()"
   ]
  },
  {
   "cell_type": "code",
   "execution_count": 20,
   "metadata": {
    "collapsed": false
   },
   "outputs": [
    {
     "ename": "SyntaxError",
     "evalue": "invalid syntax (<ipython-input-20-697c12a8bb0a>, line 2)",
     "output_type": "error",
     "traceback": [
      "\u001b[0;36m  File \u001b[0;32m\"<ipython-input-20-697c12a8bb0a>\"\u001b[0;36m, line \u001b[0;32m2\u001b[0m\n\u001b[0;31m    x y = sympy.symbols('x y')\u001b[0m\n\u001b[0m      ^\u001b[0m\n\u001b[0;31mSyntaxError\u001b[0m\u001b[0;31m:\u001b[0m invalid syntax\n"
     ]
    }
   ],
   "source": [
    "psi, phi, xi, a, t = sympy.symbols('psi phi xi a t')\n",
    "x y = sympy.symbols('x y')\n",
    "phi = sympy.symbols('phi', cls=sympy.Function)\n",
    "exp = sympy.intergrate()"
   ]
  },
  {
   "cell_type": "code",
   "execution_count": 16,
   "metadata": {
    "collapsed": false
   },
   "outputs": [
    {
     "data": {
      "text/plain": [
       "<matplotlib.legend.Legend at 0x7f2b08849128>"
      ]
     },
     "execution_count": 16,
     "metadata": {},
     "output_type": "execute_result"
    },
    {
     "data": {
      "image/png": "[encoded data removed]",
      "text/plain": [
       "<matplotlib.figure.Figure at 0x7f2b089da1d0>"
      ]
     },
     "metadata": {},
     "output_type": "display_data"
    }
   ],
   "source": [
    "import sympy\n",
    "import imp\n",
    "import ritz2\n",
    "import scipy.linalg as sla\n",
    "import matplotlib.pyplot as plt\n",
    "import numpy as np\n",
    "%matplotlib inline\n",
    "ritz2 = imp.reload(ritz2)\n",
    "s = 15\n",
    "x = sympy.symbols('x', real=True)\n",
    "p = 1\n",
    "q = 1 / x\n",
    "f = s * x * x\n",
    "phi = [x - 1, (x - 1) * (2 - x), (x - 1) * (x - 1) * (2 - x)]\n",
    "a = 1\n",
    "b = 2\n",
    "Am, Bm = ritz2.solve(p, q, f, phi, a, b)\n",
    "sol = sla.solve(Am, -Bm)\n",
    "t1 = np.arange(a, b, 0.02)\n",
    "plt.plot(t1, (t1 ** 2 - 1) * (3 * s * (t1 ** 2 - 4) + 8) / 24.0, label=\"exact solution\")\n",
    "plt.plot(t1, t1 - 1 + sol[0] * (t1 - 1) * (2 - t1) + sol[1] * (2 - t1) * (t1 - 1) ** 2, label=\"approximate solution\")\n",
    "plt.legend(loc=2)"
   ]
  },
  {
   "cell_type": "code",
   "execution_count": 39,
   "metadata": {
    "collapsed": false
   },
   "outputs": [
    {
     "data": {
      "text/plain": [
       "{(1.0, 1.0)}"
      ]
     },
     "execution_count": 39,
     "metadata": {},
     "output_type": "execute_result"
    }
   ],
   "source": [
    "A = sympy.Matrix(tmp[0])\n",
    "B = sympy.Matrix(tmp[1])\n",
    "a1, a2 = sympy.symbols('a1 a2')\n",
    "sympy.linsolve((A, B), [a1, a2])"
   ]
  },
  {
   "cell_type": "code",
   "execution_count": 40,
   "metadata": {
    "collapsed": false
   },
   "outputs": [
    {
     "data": {
      "text/plain": [
       "Matrix([\n",
       "[4.34285714285714, 2.23928571428571],\n",
       "[2.23928571428571, 4.20396825396825]])"
      ]
     },
     "execution_count": 40,
     "metadata": {},
     "output_type": "execute_result"
    }
   ],
   "source": [
    "A"
   ]
  },
  {
   "cell_type": "code",
   "execution_count": 41,
   "metadata": {
    "collapsed": false
   },
   "outputs": [
    {
     "data": {
      "text/plain": [
       "Matrix([\n",
       "[6.58214285714286],\n",
       "[6.44325396825397]])"
      ]
     },
     "execution_count": 41,
     "metadata": {},
     "output_type": "execute_result"
    }
   ],
   "source": [
    "B"
   ]
  },
  {
   "cell_type": "code",
   "execution_count": 68,
   "metadata": {
    "collapsed": false
   },
   "outputs": [
    {
     "name": "stdout",
     "output_type": "stream",
     "text": [
      "1 1 (x**2 - 3)*(2*x**2 - 1)\n",
      "1 2 (2*x**2 - 1)*(x**3 - 4)\n",
      "2 1 (x**2 - 3)*(5*x**3/2 + 6*x - 4)\n",
      "2 2 (x**3 - 4)*(5*x**3/2 + 6*x - 4)\n",
      "1 (-2*x - 13)*(x**2 - 3)\n",
      "2 (-2*x - 13)*(x**3 - 4)\n"
     ]
    }
   ],
   "source": [
    "import numpy as np\n",
    "n = 2\n",
    "c = sympy.Matrix(np.zeros((n, n)))\n",
    "x = sympy.symbols('x', real=True)\n",
    "phi = [2 * x + 8, x * x - 3, x ** 3 - 4]\n",
    "p = x / 2\n",
    "q = -1\n",
    "f = x - 5\n",
    "for k in range(1, n + 1):\n",
    "    for i in range(1, n + 1):\n",
    "        print(k, i, (phi[k].diff(x).diff(x) + p * phi[k].diff(x) - q * phi[k]) * phi[i])\n",
    "        c[k-1,i-1] = sympy.integrate((phi[k].diff(x).diff(x) + p * phi[k].diff(x) - q * phi[k]) * phi[i], (x, 0, 1))\n",
    "d = sympy.Matrix(np.zeros((n, 1)))\n",
    "for i in range(1, n + 1):\n",
    "    print(i, (f - phi[0].diff(x).diff(x) - p * phi[0].diff(x) + q * phi[0]) * phi[i])\n",
    "    d[i - 1] = sympy.integrate((f - phi[0].diff(x).diff(x) - p * phi[0].diff(x) + q * phi[0]) * phi[i], (x, 0, 1))"
   ]
  },
  {
   "cell_type": "code",
   "execution_count": 67,
   "metadata": {
    "collapsed": false
   },
   "outputs": [
    {
     "data": {
      "text/plain": [
       "Matrix([\n",
       "[  223/6],\n",
       "[1047/20]])"
      ]
     },
     "execution_count": 67,
     "metadata": {},
     "output_type": "execute_result"
    }
   ],
   "source": [
    "d"
   ]
  },
  {
   "cell_type": "code",
   "execution_count": 72,
   "metadata": {
    "collapsed": false
   },
   "outputs": [
    {
     "data": {
      "text/plain": [
       "{(-115650/11383, 385714/11383)}"
      ]
     },
     "execution_count": 72,
     "metadata": {},
     "output_type": "execute_result"
    }
   ],
   "source": [
    "sympy.linsolve((c, d), [a1, a2])"
   ]
  },
  {
   "cell_type": "code",
   "execution_count": 76,
   "metadata": {
    "collapsed": false
   },
   "outputs": [],
   "source": [
    "t1, t2 = -115650/11383, 385714/11383"
   ]
  },
  {
   "cell_type": "code",
   "execution_count": 77,
   "metadata": {
    "collapsed": false
   },
   "outputs": [
    {
     "data": {
      "text/plain": [
       "223.00000000000003"
      ]
     },
     "execution_count": 77,
     "metadata": {},
     "output_type": "execute_result"
    }
   ],
   "source": [
    "(t1 * 16 / 15 + t2 * 17 / 12) * 6"
   ]
  },
  {
   "cell_type": "code",
   "execution_count": 81,
   "metadata": {
    "collapsed": false
   },
   "outputs": [
    {
     "name": "stdout",
     "output_type": "stream",
     "text": [
      "1 1 5*x**3*(x - 1)**2 + (2*x - 1)**2\n",
      "1 2 5*x**4*(x - 1)**2 + (2*x - 1)*(x**2 + 2*x*(x - 1))\n",
      "2 1 5*x**4*(x - 1)**2 + (2*x - 1)*(x**2 + 2*x*(x - 1))\n",
      "2 2 5*x**5*(x - 1)**2 + (x**2 + 2*x*(x - 1))**2\n",
      "1 x*(x - 1)*(5*x**2 + 2*x)\n",
      "2 x**2*(x - 1)*(5*x**2 + 2*x)\n"
     ]
    }
   ],
   "source": [
    "import numpy as np\n",
    "n = 2\n",
    "c = sympy.Matrix(np.zeros((n, n)))\n",
    "x = sympy.symbols('x', real=True)\n",
    "phi = [x, x * (x - 1), x * x * (x - 1)]\n",
    "p = sympy.Integer(1)\n",
    "q = 5 * x\n",
    "f = 2 * x + 1\n",
    "for k in range(1, n + 1):\n",
    "    for i in range(1, n + 1):\n",
    "        print(k, i, p * phi[k].diff(x) * phi[i].diff(x) + q * phi[k] * phi[i])\n",
    "        c[k-1,i-1] = sympy.integrate(p * phi[k].diff(x) * phi[i].diff(x) + q * phi[k] * phi[i], (x, 0, 1))\n",
    "d = sympy.Matrix(np.zeros((n, 1)))\n",
    "for i in range(1, n + 1):\n",
    "    print(i, (f - phi[0].diff(x).diff(x) - p * phi[0].diff(x) + q * phi[0]) * phi[i])\n",
    "    d[i - 1] = sympy.integrate(p * phi[0].diff(x) * phi[i].diff(x) + q * phi[0] * phi[i] + f, (x, 0, 1))"
   ]
  },
  {
   "cell_type": "code",
   "execution_count": 84,
   "metadata": {
    "collapsed": false
   },
   "outputs": [
    {
     "data": {
      "text/plain": [
       "{(311/5488, 1083/3920)}"
      ]
     },
     "execution_count": 84,
     "metadata": {},
     "output_type": "execute_result"
    }
   ],
   "source": [
    "sympy.linsolve((d, c), (a1, a2))"
   ]
  },
  {
   "cell_type": "code",
   "execution_count": 85,
   "metadata": {
    "collapsed": false
   },
   "outputs": [
    {
     "data": {
      "text/plain": [
       "(0.056669096209912534, 0.27627551020408164)"
      ]
     },
     "execution_count": 85,
     "metadata": {},
     "output_type": "execute_result"
    }
   ],
   "source": [
    "311/5488, 1083/3920"
   ]
  },
  {
   "cell_type": "code",
   "execution_count": null,
   "metadata": {
    "collapsed": true
   },
   "outputs": [],
   "source": []
  }
 ],
 "metadata": {
  "kernelspec": {
   "display_name": "Python 3",
   "language": "python",
   "name": "python3"
  },
  "language_info": {
   "codemirror_mode": {
    "name": "ipython",
    "version": 3
   },
   "file_extension": ".py",
   "mimetype": "text/x-python",
   "name": "python",
   "nbconvert_exporter": "python",
   "pygments_lexer": "ipython3",
   "version": "3.5.2"
  }
 },
 "nbformat": 4,
 "nbformat_minor": 1
}
