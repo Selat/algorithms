{
 "cells": [
  {
   "cell_type": "code",
   "execution_count": 1,
   "metadata": {
    "collapsed": false,
    "scrolled": true
   },
   "outputs": [],
   "source": [
    "import imp\n",
    "import sympy\n",
    "import numpy as np\n",
    "sympy.init_printing()\n",
    "x = sympy.symbols('x', real=True)\n",
    "u = sympy.symbols('u', cls=sympy.Function)\n",
    "f = x * x + u(x) * u(x)\n",
    "xi = sympy.Integer(0)\n",
    "eta = sympy.Integer(0)"
   ]
  },
  {
   "cell_type": "code",
   "execution_count": 2,
   "metadata": {
    "collapsed": false,
    "scrolled": true
   },
   "outputs": [
    {
     "data": {
      "image/png": "[encoded data removed]",
      "text/latex": [
       "$$\\frac{x^{15}}{59535} + \\frac{2 x^{11}}{2079} + \\frac{x^{7}}{63} + \\frac{x^{3}}{3}$$"
      ],
      "text/plain": [
       "  15       11    7    3\n",
       " x      2⋅x     x    x \n",
       "───── + ───── + ── + ──\n",
       "59535    2079   63   3 "
      ]
     },
     "execution_count": 2,
     "metadata": {},
     "output_type": "execute_result"
    }
   ],
   "source": [
    "import picard\n",
    "picard = imp.reload(picard)\n",
    "picard.solve(f, xi, eta, n_iterations=3)"
   ]
  },
  {
   "cell_type": "code",
   "execution_count": 3,
   "metadata": {
    "collapsed": false
   },
   "outputs": [
    {
     "data": {
      "image/png": "[encoded data removed]",
      "text/latex": [
       "$$\\frac{x^{7}}{63} + \\frac{x^{3}}{3}$$"
      ],
      "text/plain": [
       " 7    3\n",
       "x    x \n",
       "── + ──\n",
       "63   3 "
      ]
     },
     "execution_count": 3,
     "metadata": {},
     "output_type": "execute_result"
    }
   ],
   "source": [
    "import taylor_series\n",
    "taylor_series = imp.reload(taylor_series)\n",
    "taylor_series.solve(f, xi, eta, n_iterations=7)"
   ]
  },
  {
   "cell_type": "code",
   "execution_count": 4,
   "metadata": {
    "collapsed": false
   },
   "outputs": [
    {
     "data": {
      "text/plain": [
       "array([ 0.        ,  0.        ,  0.015625  ,  0.07818604,  0.2203393 ])"
      ]
     },
     "execution_count": 4,
     "metadata": {},
     "output_type": "execute_result"
    }
   ],
   "source": [
    "import euler\n",
    "euler = imp.reload(euler)\n",
    "euler.explicit_solve(lambda x, y: x * x + y * y, 0.0, 1.0, 0.0, n=5)"
   ]
  },
  {
   "cell_type": "code",
   "execution_count": 5,
   "metadata": {
    "collapsed": false
   },
   "outputs": [
    {
     "data": {
      "text/plain": [
       "array([ 0.        ,  0.00266687,  0.02136009,  0.0724512 ,  0.17409018,\n",
       "        0.35025755])"
      ]
     },
     "execution_count": 5,
     "metadata": {},
     "output_type": "execute_result"
    }
   ],
   "source": [
    "import runge_kutta\n",
    "runge_kutta = imp.reload(runge_kutta)\n",
    "runge_kutta.solve_4(lambda x, y: x * x + y * y, 0.0, 1.0, 0.0, n=6)"
   ]
  },
  {
   "cell_type": "code",
   "execution_count": 6,
   "metadata": {
    "collapsed": false
   },
   "outputs": [
    {
     "data": {
      "image/png": "[encoded data removed]",
      "text/latex": [
       "$$7.141592653589793238462643383279502884197169399375105820974944592307816406286208998628034825342117068$$"
      ],
      "text/plain": [
       "7.1415926535897932384626433832795028841971693993751058209749445923078164062862\n",
       "08998628034825342117068"
      ]
     },
     "execution_count": 6,
     "metadata": {},
     "output_type": "execute_result"
    }
   ],
   "source": [
    "(x + u(x)).evalf(100, subs={x: 4, u(x): sympy.pi})"
   ]
  },
  {
   "cell_type": "code",
   "execution_count": 7,
   "metadata": {
    "collapsed": false
   },
   "outputs": [
    {
     "data": {
      "text/plain": [
       "array([  0.        ,   3.14159265,   6.28318531,   9.42477796,\n",
       "        12.56637061,  15.70796327,  18.84955592,  21.99114858,\n",
       "        25.13274123,  28.27433388])"
      ]
     },
     "execution_count": 7,
     "metadata": {},
     "output_type": "execute_result"
    }
   ],
   "source": [
    "f = sympy.lambdify(x, (x*u(x)).subs([(u(x), sympy.pi)]), 'numpy')\n",
    "a = np.arange(10)\n",
    "f(a)"
   ]
  },
  {
   "cell_type": "code",
   "execution_count": null,
   "metadata": {
    "collapsed": true
   },
   "outputs": [],
   "source": []
  }
 ],
 "metadata": {
  "kernelspec": {
   "display_name": "Python 3",
   "language": "python",
   "name": "python3"
  },
  "language_info": {
   "codemirror_mode": {
    "name": "ipython",
    "version": 3
   },
   "file_extension": ".py",
   "mimetype": "text/x-python",
   "name": "python",
   "nbconvert_exporter": "python",
   "pygments_lexer": "ipython3",
   "version": "3.5.2"
  }
 },
 "nbformat": 4,
 "nbformat_minor": 1
}
