{
 "cells": [
  {
   "cell_type": "markdown",
   "metadata": {},
   "source": [
    "```math\n",
    "u' = -(3 + 0.05 * 2)x**(3 - 1 + 0.05 * 2) * u * sin(x**(3 + 0.05 * 2)), u(0) = e\n",
    "```\n",
    "\n",
    "\n",
    "```math\n",
    "u = e**(cos(x**(3 + 0.05 * 2)))\n",
    "```"
   ]
  },
  {
   "cell_type": "code",
   "execution_count": 25,
   "metadata": {
    "collapsed": false
   },
   "outputs": [
    {
     "name": "stdout",
     "output_type": "stream",
     "text": [
      "0.001 0.0\n",
      "0.0010000213037754746 0.0654400840521\n",
      "0.0010015673350872126 0.065425342278\n",
      "0.0010195257211052357 0.0652570405055\n",
      "0.0011216714478253537 0.0643609514705\n",
      "0.0015749151227216188 0.0612750463352\n",
      "0.003951727340606702 0.0536348642999\n",
      "0.029378522601906522 0.040117332523\n",
      "0.9640396128318846 0.0242085718037\n",
      "78.90562524764621 0.0128039674734\n"
     ]
    }
   ],
   "source": [
    "import runge_kutta\n",
    "import imp\n",
    "import math\n",
    "import numpy as np\n",
    "runge_kutta = imp.reload(runge_kutta)\n",
    "h = 0.2\n",
    "e = 0.001\n",
    "def f(x, y):\n",
    "    if x == 0.0:\n",
    "        return math.e\n",
    "    else:\n",
    "        return -(3.1)*(x**2.1)*y*math.sin(x**3.1)\n",
    "def real_f(x):\n",
    "    return e**(math.cos(x**(3.1)))\n",
    "\n",
    "x = np.linspace(0.0, 1.3, 10)\n",
    "y = runge_kutta.solve_4(f, 0.0, 1.3, 0.0, n=10)\n",
    "for xx, yy in zip(x, y):\n",
    "    print(real_f(xx), yy)"
   ]
  },
  {
   "cell_type": "code",
   "execution_count": 18,
   "metadata": {
    "collapsed": false
   },
   "outputs": [
    {
     "name": "stdout",
     "output_type": "stream",
     "text": [
      "[ 0.          0.14444444  0.28888889  0.43333333  0.57777778  0.72222222\n",
      "  0.86666667  1.01111111  1.15555556  1.3       ]\n"
     ]
    }
   ],
   "source": []
  },
  {
   "cell_type": "code",
   "execution_count": 35,
   "metadata": {
    "collapsed": false
   },
   "outputs": [],
   "source": [
    "import sympy\n",
    "u, x = sympy.symbols('u x')\n",
    "sympy.init_printing()\n",
    "f = sympy.lambdify(x, sympy.diff(sympy.diff(sympy.diff(sympy.diff(sympy.diff(sympy.exp(sympy.cos(x**3.1)), x), x), x), x), x), \"numpy\")"
   ]
  },
  {
   "cell_type": "code",
   "execution_count": 44,
   "metadata": {
    "collapsed": false
   },
   "outputs": [
    {
     "data": {
      "image/png": "[encoded data removed]",
      "text/latex": [
       "$$0.0081791430095$$"
      ],
      "text/plain": [
       "0.0081791430095"
      ]
     },
     "execution_count": 44,
     "metadata": {},
     "output_type": "execute_result"
    }
   ],
   "source": [
    "t = np.linspace(0.001, 1.3, 1000)\n",
    "251 * np.max(f(t)) / (720 * 5**8)"
   ]
  },
  {
   "cell_type": "code",
   "execution_count": null,
   "metadata": {
    "collapsed": true
   },
   "outputs": [],
   "source": []
  }
 ],
 "metadata": {
  "kernelspec": {
   "display_name": "Python 3",
   "language": "python",
   "name": "python3"
  },
  "language_info": {
   "codemirror_mode": {
    "name": "ipython",
    "version": 3
   },
   "file_extension": ".py",
   "mimetype": "text/x-python",
   "name": "python",
   "nbconvert_exporter": "python",
   "pygments_lexer": "ipython3",
   "version": "3.5.2"
  }
 },
 "nbformat": 4,
 "nbformat_minor": 1
}
